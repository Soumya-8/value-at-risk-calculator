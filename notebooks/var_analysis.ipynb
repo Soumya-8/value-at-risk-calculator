{
 "cells": [
  {
   "cell_type": "markdown",
   "id": "9fc17fb5",
   "metadata": {},
   "source": [
    "# 💰 Value at Risk (VaR) Calculator\n",
    "\n",
    "This project calculates and compares Value at Risk (VaR) using:\n",
    "- 📉 Historical Simulation\n",
    "- 🧠 Parametric (Variance-Covariance / Gaussian)\n",
    "\n",
    "## 🛠️ Tools Used\n",
    "- Python (Jupyter Notebook)\n",
    "- Numpy, Pandas, Matplotlib\n",
    "\n",
    "## 📌 What is VaR?\n",
    "Value at Risk (VaR) estimates the maximum loss that a portfolio might face over a specific time period at a given confidence level.  \n",
    "For example:  \n",
    "> “At 95% confidence, you may lose no more than ₹50,000 in 1 day.”\n",
    "\n",
    "We’ll calculate this using both empirical and statistical approaches.\n"
   ]
  },
  {
   "cell_type": "markdown",
   "id": "0d1d0a15",
   "metadata": {},
   "source": [
    "---\n",
    "\n",
    "## 📦 Step 1: Import Libraries and Utilities\n",
    "\n",
    "We’ll start by importing all the Python packages needed to calculate VaR.\n"
   ]
  },
  {
   "cell_type": "code",
   "execution_count": 10,
   "id": "24ed79e7",
   "metadata": {},
   "outputs": [],
   "source": [
    "import numpy as np\n",
    "import pandas as pd\n",
    "import matplotlib.pyplot as plt\n",
    "import sys\n",
    "sys.path.append('../src')\n",
    "\n",
    "from parametric_var import calculate_parametric_var\n"
   ]
  },
  {
   "cell_type": "markdown",
   "id": "456dacae",
   "metadata": {},
   "source": [
    "---\n",
    "\n",
    "## 📊 Step 2: Generate Synthetic Portfolio Returns\n",
    "\n",
    "We generate normally distributed daily returns for a simulated 1-year portfolio (252 trading days), assuming:\n",
    "- Mean daily return = 0.1%\n",
    "- Standard deviation = 2%\n",
    "\n",
    "This models a generic portfolio for illustrative purposes.\n"
   ]
  },
  {
   "cell_type": "code",
   "execution_count": 3,
   "id": "75f30aa9",
   "metadata": {},
   "outputs": [
    {
     "data": {
      "text/plain": [
       "0    0.010934\n",
       "1   -0.001765\n",
       "2    0.013954\n",
       "3    0.031461\n",
       "4   -0.003683\n",
       "dtype: float64"
      ]
     },
     "execution_count": 3,
     "metadata": {},
     "output_type": "execute_result"
    }
   ],
   "source": [
    "# Generate fake daily returns for 1 year (252 trading days)\n",
    "np.random.seed(42)\n",
    "returns = np.random.normal(0.001, 0.02, 252)  # mean return = 0.1%, std dev = 2%\n",
    "returns = pd.Series(returns)\n",
    "returns.head()\n"
   ]
  },
  {
   "cell_type": "markdown",
   "id": "30183e49",
   "metadata": {},
   "source": [
    "---\n",
    "\n",
    "## 📉 Step 3: Calculate Value at Risk Using Historical Method\n",
    "\n",
    "We use actual historical returns to estimate potential loss. This is a non-parametric method and doesn’t assume any return distribution.\n",
    "\n",
    "🔎 **Logic:**\n",
    "Sort the past returns and pick the percentile value corresponding to the chosen confidence level.\n"
   ]
  },
  {
   "cell_type": "code",
   "execution_count": null,
   "id": "6d7fed22",
   "metadata": {},
   "outputs": [
    {
     "name": "stdout",
     "output_type": "stream",
     "text": [
      "🔻 Historical VaR at 95% confidence: -2.89%\n"
     ]
    }
   ],
   "source": [
    "# Set confidence level\n",
    "confidence_level = 0.95\n",
    "\n",
    "# Calculate historical VaR\n",
    "var_95 = np.percentile(returns, (1 - confidence_level) * 100)\n",
    "print(f\"🔻 Historical VaR at 95% confidence: {round(var_95 * 100, 2)}%\")\n"
   ]
  },
  {
   "cell_type": "markdown",
   "id": "b2bfd804",
   "metadata": {},
   "source": [
    "---\n",
    "\n",
    "## 🧠 Step 4: Parametric (Gaussian) VaR Method\n",
    "\n",
    "This method assumes returns are normally distributed and uses this formula:\n",
    "\n",
    "**VaR = - (μ - z × σ)**\n",
    "\n",
    "Where:  \n",
    "- μ = Mean of returns  \n",
    "- σ = Standard deviation of returns  \n",
    "- z = Z-score for desired confidence (e.g., 1.65 for 95%)  \n",
    "\n",
    "This method is efficient but may not always be accurate if returns are not normally distributed.\n"
   ]
  },
  {
   "cell_type": "code",
   "execution_count": null,
   "id": "9f9a68d6",
   "metadata": {},
   "outputs": [
    {
     "name": "stdout",
     "output_type": "stream",
     "text": [
      "🔻 Parametric VaR at 95% confidence: 3.1%\n"
     ]
    }
   ],
   "source": [
    "mean_return = returns.mean()\n",
    "std_dev = returns.std()\n",
    "\n",
    "# Z-score for 95% confidence ≈ 1.65\n",
    "z = 1.65\n",
    "\n",
    "parametric_var = -(mean_return - z * std_dev)\n",
    "print(f\"🔻 Parametric VaR at 95% confidence: {round(parametric_var * 100, 2)}%\")\n"
   ]
  },
  {
   "cell_type": "markdown",
   "id": "820a4aa9",
   "metadata": {},
   "source": [
    "---\n",
    "\n",
    "## 🧾 Step 5: VaR Comparison Summary\n",
    "\n",
    "| Method       | Confidence Level | Value at Risk (%) |\n",
    "|--------------|------------------|-------------------|\n",
    "| Historical   | 95%              | -2.89%            |\n",
    "| Parametric   | 95%              | 3.10%             |\n",
    "\n",
    "✅ This table shows a quick comparison of the two VaR methods.  \n",
    "You can clearly see how different assumptions (distribution-based vs historical) lead to different estimates.\n"
   ]
  },
  {
   "cell_type": "code",
   "execution_count": 7,
   "id": "c11bebc4",
   "metadata": {},
   "outputs": [],
   "source": [
    "mean_return = returns.mean()\n",
    "std_dev = returns.std()\n",
    "z = 1.65  # for 95% confidence\n",
    "\n",
    "parametric_var = -(mean_return - z * std_dev)\n"
   ]
  },
  {
   "cell_type": "code",
   "execution_count": 5,
   "id": "f6541e13",
   "metadata": {},
   "outputs": [],
   "source": [
    "# Historical VaR at 95% confidence level\n",
    "confidence_level = 0.95\n",
    "var_95 = np.percentile(returns, (1 - confidence_level) * 100)\n"
   ]
  },
  {
   "cell_type": "code",
   "execution_count": 8,
   "id": "3f1465c8",
   "metadata": {},
   "outputs": [
    {
     "data": {
      "image/png": "[encoded data removed]",
      "text/plain": [
       "<Figure size 1000x500 with 1 Axes>"
      ]
     },
     "metadata": {},
     "output_type": "display_data"
    }
   ],
   "source": [
    "# Step 5: Plot the Return Distribution and VaR thresholds\n",
    "plt.figure(figsize=(10, 5))\n",
    "plt.hist(returns, bins=50, color='lightblue', edgecolor='black', alpha=0.7)\n",
    "\n",
    "# VaR lines\n",
    "plt.axvline(var_95, color='red', linestyle='dashed', linewidth=2, label='Historical VaR (95%)')\n",
    "plt.axvline(-parametric_var, color='orange', linestyle='dashed', linewidth=2, label='Parametric VaR (95%)')\n",
    "\n",
    "# Labels and style\n",
    "plt.title('Distribution of Simulated Daily Returns with VaR Thresholds')\n",
    "plt.xlabel('Daily Return')\n",
    "plt.ylabel('Frequency')\n",
    "plt.legend()\n",
    "plt.grid(True)\n",
    "plt.tight_layout()\n",
    "plt.show()\n"
   ]
  },
  {
   "cell_type": "markdown",
   "id": "017ff410",
   "metadata": {},
   "source": [
    "---\n",
    "\n",
    "## ✅ Conclusion\n",
    "\n",
    "In this project, we demonstrated how to calculate Value at Risk (VaR) using:\n",
    "\n",
    "- 📉 **Historical Method** — Non-parametric, percentile-based\n",
    "- 📈 **Parametric Method** — Assumes returns are normally distributed\n",
    "\n",
    "We also visualized the return distribution and highlighted the VaR thresholds to better understand downside risks in financial portfolios.\n",
    "\n",
    "---\n",
    "\n",
    "## 🚀 Next Steps (for further enhancement)\n",
    "\n",
    "- Add Monte Carlo Simulation-based VaR\n",
    "- Include backtesting using historical portfolio data\n",
    "- Build a Streamlit dashboard for real-time VaR calculation\n",
    "\n",
    "---\n",
    "\n",
    "🔗 [GitHub Repo](https://github.com/Soumya-8/value-at-risk-calculator)\n"
   ]
  }
 ],
 "metadata": {
  "kernelspec": {
   "display_name": "Python 3",
   "language": "python",
   "name": "python3"
  },
  "language_info": {
   "codemirror_mode": {
    "name": "ipython",
    "version": 3
   },
   "file_extension": ".py",
   "mimetype": "text/x-python",
   "name": "python",
   "nbconvert_exporter": "python",
   "pygments_lexer": "ipython3",
   "version": "3.12.6"
  }
 },
 "nbformat": 4,
 "nbformat_minor": 5
}
